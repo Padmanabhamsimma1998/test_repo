{
 "cells": [
  {
   "cell_type": "markdown",
   "id": "0c5a0683",
   "metadata": {},
   "source": [
    "# Data Science Tools and Ecosystem"
   ]
  },
  {
   "cell_type": "markdown",
   "id": "8777fcd9",
   "metadata": {},
   "source": [
    "# In this notebook, Data Science Tools and Ecosystem are summarized."
   ]
  },
  {
   "cell_type": "markdown",
   "id": "35a43198",
   "metadata": {},
   "source": [
    "### Some of the popular languages that Data Scientists use are:\n",
    "1. Python\n",
    "2. R language\n",
    "3. SQL\n",
    "4. JAVA\n"
   ]
  },
  {
   "cell_type": "markdown",
   "id": "dd1e307f",
   "metadata": {},
   "source": [
    "### Some of the commonly used libraries used by Data Scientists include:\n",
    "1. Numpy\n",
    "2. Pandas\n",
    "3. matplotlib\n",
    "4. Seaborn\n",
    "5. sikit learn"
   ]
  },
  {
   "cell_type": "markdown",
   "id": "dafc53cb",
   "metadata": {},
   "source": [
    "|Data Science Tools|\n",
    "|------------------|\n",
    "|Tensorflow|\n",
    "|Apache Spark|\n",
    "|Tableau|\n",
    "|PowerBI|\n",
    "|python|\n",
    "|Excel|"
   ]
  },
  {
   "cell_type": "markdown",
   "id": "37d9c09d",
   "metadata": {},
   "source": [
    "### Below are a few examples of evaluating arithmetic expressions in Python"
   ]
  },
  {
   "cell_type": "code",
   "execution_count": 1,
   "id": "866ee919",
   "metadata": {},
   "outputs": [
    {
     "data": {
      "text/plain": [
       "17"
      ]
     },
     "execution_count": 1,
     "metadata": {},
     "output_type": "execute_result"
    }
   ],
   "source": [
    "#This a simple arithmetic expression to mutiply then add integers.\n",
    "(3*4)+5"
   ]
  },
  {
   "cell_type": "code",
   "execution_count": 2,
   "id": "b91fa160",
   "metadata": {},
   "outputs": [
    {
     "data": {
      "text/plain": [
       "3.3333333333333335"
      ]
     },
     "execution_count": 2,
     "metadata": {},
     "output_type": "execute_result"
    }
   ],
   "source": [
    "#This will convert 200 minutes to hours by diving by 60.\n",
    "(200/60)"
   ]
  },
  {
   "cell_type": "markdown",
   "id": "2a444772",
   "metadata": {},
   "source": [
    "**Objectives:**\n",
    "- Some of the popular languages used in Data science are python, R etc.\n",
    "- Some of the Libraries used in Data science are Numpy, Pandas, matpltlib, Seaborn etc.\n",
    "- Some of the tools used in Data science are Tensorflow, Apache Spark, Tableau, PowerBI etc.\n",
    "- for writing code, use jupyter notebooks.\n",
    "- for Data Asset management, use Git.\n",
    "- Data science is a popular topic in which data collection, data cleaning, data transformation, data visulalization, model and deployment."
   ]
  },
  {
   "cell_type": "markdown",
   "id": "8d666028",
   "metadata": {},
   "source": [
    "## Author\n",
    "Padmanabham Simma"
   ]
  },
  {
   "cell_type": "code",
   "execution_count": null,
   "id": "1b48f89e",
   "metadata": {},
   "outputs": [],
   "source": []
  }
 ],
 "metadata": {
  "kernelspec": {
   "display_name": "Python 3 (ipykernel)",
   "language": "python",
   "name": "python3"
  },
  "language_info": {
   "codemirror_mode": {
    "name": "ipython",
    "version": 3
   },
   "file_extension": ".py",
   "mimetype": "text/x-python",
   "name": "python",
   "nbconvert_exporter": "python",
   "pygments_lexer": "ipython3",
   "version": "3.7.3"
  }
 },
 "nbformat": 4,
 "nbformat_minor": 5
}
